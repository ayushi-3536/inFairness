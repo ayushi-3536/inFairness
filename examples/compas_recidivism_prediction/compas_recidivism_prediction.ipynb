{
  "nbformat": 4,
  "nbformat_minor": 0,
  "metadata": {
    "colab": {
      "provenance": [],
      "authorship_tag": "ABX9TyPVK+uP5a04nSfUxICVm0Tf",
      "include_colab_link": true
    },
    "kernelspec": {
      "name": "python3",
      "display_name": "Python 3"
    },
    "language_info": {
      "name": "python"
    }
  },
  "cells": [
    {
      "cell_type": "markdown",
      "metadata": {
        "id": "view-in-github",
        "colab_type": "text"
      },
      "source": [
        "<a href=\"https://colab.research.google.com/github/ayushi-3536/inFairness/blob/main/compas_recidivism_prediction.ipynb\" target=\"_parent\"><img src=\"https://colab.research.google.com/assets/colab-badge.svg\" alt=\"Open In Colab\"/></a>"
      ]
    },
    {
      "cell_type": "code",
      "execution_count": 1,
      "metadata": {
        "colab": {
          "base_uri": "https://localhost:8080/"
        },
        "id": "IRKygf82fr6t",
        "outputId": "d2efec10-2c9a-476d-f45c-1eacf54c2be7"
      },
      "outputs": [
        {
          "output_type": "stream",
          "name": "stdout",
          "text": [
            "Looking in indexes: https://pypi.org/simple, https://us-python.pkg.dev/colab-wheels/public/simple/\n",
            "Collecting inFairness\n",
            "  Downloading inFairness-0.2.2-py3-none-any.whl (38 kB)\n",
            "Requirement already satisfied: requests in /usr/local/lib/python3.7/dist-packages (2.23.0)\n",
            "Requirement already satisfied: torch>=1.11.0 in /usr/local/lib/python3.7/dist-packages (from inFairness) (1.12.1+cu113)\n",
            "Requirement already satisfied: scipy>=1.5.4 in /usr/local/lib/python3.7/dist-packages (from inFairness) (1.7.3)\n",
            "Requirement already satisfied: scikit-learn>=0.24.2 in /usr/local/lib/python3.7/dist-packages (from inFairness) (1.0.2)\n",
            "Collecting POT>=0.8.0\n",
            "  Downloading POT-0.8.2-cp37-cp37m-manylinux_2_12_x86_64.manylinux2010_x86_64.whl (664 kB)\n",
            "\u001b[K     |████████████████████████████████| 664 kB 3.3 MB/s \n",
            "\u001b[?25hRequirement already satisfied: numpy>=1.21.6 in /usr/local/lib/python3.7/dist-packages (from inFairness) (1.21.6)\n",
            "Requirement already satisfied: pandas>=1.3.5 in /usr/local/lib/python3.7/dist-packages (from inFairness) (1.3.5)\n",
            "Collecting functorch~=0.1.1\n",
            "  Downloading functorch-0.1.1-cp37-cp37m-manylinux1_x86_64.whl (21.4 MB)\n",
            "\u001b[K     |████████████████████████████████| 21.4 MB 1.4 MB/s \n",
            "\u001b[?25hCollecting torch>=1.11.0\n",
            "  Downloading torch-1.11.0-cp37-cp37m-manylinux1_x86_64.whl (750.6 MB)\n",
            "\u001b[K     |████████████████████████████████| 750.6 MB 11 kB/s \n",
            "\u001b[?25hRequirement already satisfied: pytz>=2017.3 in /usr/local/lib/python3.7/dist-packages (from pandas>=1.3.5->inFairness) (2022.2.1)\n",
            "Requirement already satisfied: python-dateutil>=2.7.3 in /usr/local/lib/python3.7/dist-packages (from pandas>=1.3.5->inFairness) (2.8.2)\n",
            "Requirement already satisfied: six>=1.5 in /usr/local/lib/python3.7/dist-packages (from python-dateutil>=2.7.3->pandas>=1.3.5->inFairness) (1.15.0)\n",
            "Requirement already satisfied: threadpoolctl>=2.0.0 in /usr/local/lib/python3.7/dist-packages (from scikit-learn>=0.24.2->inFairness) (3.1.0)\n",
            "Requirement already satisfied: joblib>=0.11 in /usr/local/lib/python3.7/dist-packages (from scikit-learn>=0.24.2->inFairness) (1.1.0)\n",
            "Requirement already satisfied: typing-extensions in /usr/local/lib/python3.7/dist-packages (from torch>=1.11.0->inFairness) (4.1.1)\n",
            "Requirement already satisfied: idna<3,>=2.5 in /usr/local/lib/python3.7/dist-packages (from requests) (2.10)\n",
            "Requirement already satisfied: certifi>=2017.4.17 in /usr/local/lib/python3.7/dist-packages (from requests) (2022.6.15)\n",
            "Requirement already satisfied: chardet<4,>=3.0.2 in /usr/local/lib/python3.7/dist-packages (from requests) (3.0.4)\n",
            "Requirement already satisfied: urllib3!=1.25.0,!=1.25.1,<1.26,>=1.21.1 in /usr/local/lib/python3.7/dist-packages (from requests) (1.24.3)\n",
            "Installing collected packages: torch, POT, functorch, inFairness\n",
            "  Attempting uninstall: torch\n",
            "    Found existing installation: torch 1.12.1+cu113\n",
            "    Uninstalling torch-1.12.1+cu113:\n",
            "      Successfully uninstalled torch-1.12.1+cu113\n",
            "\u001b[31mERROR: pip's dependency resolver does not currently take into account all the packages that are installed. This behaviour is the source of the following dependency conflicts.\n",
            "torchvision 0.13.1+cu113 requires torch==1.12.1, but you have torch 1.11.0 which is incompatible.\n",
            "torchtext 0.13.1 requires torch==1.12.1, but you have torch 1.11.0 which is incompatible.\n",
            "torchaudio 0.12.1+cu113 requires torch==1.12.1, but you have torch 1.11.0 which is incompatible.\u001b[0m\n",
            "Successfully installed POT-0.8.2 functorch-0.1.1 inFairness-0.2.2 torch-1.11.0\n"
          ]
        }
      ],
      "source": [
        "!pip install inFairness requests\n"
      ]
    },
    {
      "cell_type": "code",
      "source": [
        "import torch\n",
        "import torch.nn as nn\n",
        "import torch.nn.functional as F\n",
        "\n",
        "from torch.utils.data import Dataset\n",
        "from torch.utils.data import DataLoader\n",
        "\n",
        "from inFairness.fairalgo import SenSeI\n",
        "from inFairness import distances\n",
        "from inFairness.auditor import SenSRAuditor, SenSeIAuditor\n",
        "\n",
        "%load_ext autoreload\n",
        "%autoreload 2\n",
        "\n",
        "import data\n",
        "import metrics"
      ],
      "metadata": {
        "colab": {
          "base_uri": "https://localhost:8080/"
        },
        "id": "yyWI9KXMgzvP",
        "outputId": "1a73a2f1-a7cf-4e87-98e9-47bad9e9c50c"
      },
      "execution_count": 80,
      "outputs": [
        {
          "output_type": "stream",
          "name": "stdout",
          "text": [
            "The autoreload extension is already loaded. To reload it, use:\n",
            "  %reload_ext autoreload\n"
          ]
        }
      ]
    },
    {
      "cell_type": "code",
      "source": [
        "!git clone https://github.com/ayushi-3536/inFairness.git"
      ],
      "metadata": {
        "colab": {
          "base_uri": "https://localhost:8080/"
        },
        "id": "uq9cfnr1mjwC",
        "outputId": "9198706f-33ed-4ec4-8f07-d99b501c8042"
      },
      "execution_count": 3,
      "outputs": [
        {
          "output_type": "stream",
          "name": "stdout",
          "text": [
            "Cloning into 'inFairness'...\n",
            "remote: Enumerating objects: 325, done.\u001b[K\n",
            "remote: Counting objects: 100% (110/110), done.\u001b[K\n",
            "remote: Compressing objects: 100% (75/75), done.\u001b[K\n",
            "remote: Total 325 (delta 69), reused 35 (delta 35), pack-reused 215\u001b[K\n",
            "Receiving objects: 100% (325/325), 1.44 MiB | 5.24 MiB/s, done.\n",
            "Resolving deltas: 100% (126/126), done.\n"
          ]
        }
      ]
    },
    {
      "cell_type": "code",
      "source": [
        "cd inFairness"
      ],
      "metadata": {
        "colab": {
          "base_uri": "https://localhost:8080/"
        },
        "id": "C9aghE6mg1Dg",
        "outputId": "40ca6b55-428d-4839-fc8d-1472dec3ea1a"
      },
      "execution_count": 4,
      "outputs": [
        {
          "output_type": "stream",
          "name": "stdout",
          "text": [
            "/content/inFairness\n"
          ]
        }
      ]
    },
    {
      "cell_type": "code",
      "source": [
        "!pip install -e .\n"
      ],
      "metadata": {
        "colab": {
          "base_uri": "https://localhost:8080/"
        },
        "id": "xa6Gg_KHmsdw",
        "outputId": "fb1f518d-1656-467e-dd4f-b1f3630fa48a"
      },
      "execution_count": 5,
      "outputs": [
        {
          "output_type": "stream",
          "name": "stdout",
          "text": [
            "Looking in indexes: https://pypi.org/simple, https://us-python.pkg.dev/colab-wheels/public/simple/\n",
            "Obtaining file:///content/inFairness\n",
            "Requirement already satisfied: functorch~=0.1.1 in /usr/local/lib/python3.7/dist-packages (from inFairness==0.2.2) (0.1.1)\n",
            "Requirement already satisfied: numpy>=1.21.6 in /usr/local/lib/python3.7/dist-packages (from inFairness==0.2.2) (1.21.6)\n",
            "Requirement already satisfied: pandas>=1.3.5 in /usr/local/lib/python3.7/dist-packages (from inFairness==0.2.2) (1.3.5)\n",
            "Requirement already satisfied: POT>=0.8.0 in /usr/local/lib/python3.7/dist-packages (from inFairness==0.2.2) (0.8.2)\n",
            "Requirement already satisfied: scikit-learn>=0.24.2 in /usr/local/lib/python3.7/dist-packages (from inFairness==0.2.2) (1.0.2)\n",
            "Requirement already satisfied: scipy>=1.5.4 in /usr/local/lib/python3.7/dist-packages (from inFairness==0.2.2) (1.7.3)\n",
            "Requirement already satisfied: torch>=1.11.0 in /usr/local/lib/python3.7/dist-packages (from inFairness==0.2.2) (1.11.0)\n",
            "Requirement already satisfied: python-dateutil>=2.7.3 in /usr/local/lib/python3.7/dist-packages (from pandas>=1.3.5->inFairness==0.2.2) (2.8.2)\n",
            "Requirement already satisfied: pytz>=2017.3 in /usr/local/lib/python3.7/dist-packages (from pandas>=1.3.5->inFairness==0.2.2) (2022.2.1)\n",
            "Requirement already satisfied: six>=1.5 in /usr/local/lib/python3.7/dist-packages (from python-dateutil>=2.7.3->pandas>=1.3.5->inFairness==0.2.2) (1.15.0)\n",
            "Requirement already satisfied: joblib>=0.11 in /usr/local/lib/python3.7/dist-packages (from scikit-learn>=0.24.2->inFairness==0.2.2) (1.1.0)\n",
            "Requirement already satisfied: threadpoolctl>=2.0.0 in /usr/local/lib/python3.7/dist-packages (from scikit-learn>=0.24.2->inFairness==0.2.2) (3.1.0)\n",
            "Requirement already satisfied: typing-extensions in /usr/local/lib/python3.7/dist-packages (from torch>=1.11.0->inFairness==0.2.2) (4.1.1)\n",
            "Installing collected packages: inFairness\n",
            "  Attempting uninstall: inFairness\n",
            "    Found existing installation: inFairness 0.2.2\n",
            "    Uninstalling inFairness-0.2.2:\n",
            "      Successfully uninstalled inFairness-0.2.2\n",
            "  Running setup.py develop for inFairness\n",
            "Successfully installed inFairness-0.2.2\n"
          ]
        }
      ]
    },
    {
      "cell_type": "code",
      "source": [
        "!pwd "
      ],
      "metadata": {
        "colab": {
          "base_uri": "https://localhost:8080/"
        },
        "id": "lwINULabnG3A",
        "outputId": "a43632ea-695c-490c-c340-d7a8aeceab38"
      },
      "execution_count": 12,
      "outputs": [
        {
          "output_type": "stream",
          "name": "stdout",
          "text": [
            "/content/inFairness\n"
          ]
        }
      ]
    },
    {
      "cell_type": "code",
      "source": [
        "cd examples/adult-income-prediction/"
      ],
      "metadata": {
        "colab": {
          "base_uri": "https://localhost:8080/"
        },
        "id": "jQJ3rkJ9tAfk",
        "outputId": "1539e9bc-1816-4296-c693-ec4b2034b82e"
      },
      "execution_count": 13,
      "outputs": [
        {
          "output_type": "stream",
          "name": "stdout",
          "text": [
            "/content/inFairness/examples/adult-income-prediction\n"
          ]
        }
      ]
    },
    {
      "cell_type": "code",
      "source": [],
      "metadata": {
        "id": "l8-dpvyhtAqi"
      },
      "execution_count": null,
      "outputs": []
    },
    {
      "cell_type": "code",
      "source": [
        "import torch\n",
        "import torch.nn as nn\n",
        "import torch.nn.functional as F\n",
        "\n",
        "from torch.utils.data import Dataset\n",
        "from torch.utils.data import DataLoader\n",
        "\n",
        "from inFairness.fairalgo import SenSeI\n",
        "from inFairness import distances\n",
        "from inFairness.auditor import SenSRAuditor, SenSeIAuditor\n",
        "\n",
        "%load_ext autoreload\n",
        "%autoreload 2\n",
        "\n",
        "import data\n",
        "import metrics\n"
      ],
      "metadata": {
        "colab": {
          "base_uri": "https://localhost:8080/"
        },
        "id": "6p9Gg972m3Ut",
        "outputId": "55ce9f1e-1de0-4e7c-ee2d-e9dc8849b88a"
      },
      "execution_count": 61,
      "outputs": [
        {
          "output_type": "stream",
          "name": "stdout",
          "text": [
            "The autoreload extension is already loaded. To reload it, use:\n",
            "  %reload_ext autoreload\n"
          ]
        }
      ]
    },
    {
      "cell_type": "code",
      "source": [],
      "metadata": {
        "id": "j8GPQkmJtJSS"
      },
      "execution_count": null,
      "outputs": []
    },
    {
      "cell_type": "code",
      "source": [
        "class AdultDataset(Dataset):\n",
        "    def __init__(self, data, labels):\n",
        "        self.data = data\n",
        "        self.labels = labels\n",
        "\n",
        "    def __getitem__(self, idx):\n",
        "        data = self.data[idx]\n",
        "        label = self.labels[idx]\n",
        "        return data, label\n",
        "    \n",
        "    def __len__(self):\n",
        "        return len(self.labels)\n",
        "\n"
      ],
      "metadata": {
        "id": "lUKFhH1ztJoN"
      },
      "execution_count": 62,
      "outputs": []
    },
    {
      "cell_type": "code",
      "source": [
        "train_df, test_df = data.load_data()\n",
        "\n",
        "X_train_df, Y_train_df = train_df\n",
        "X_test_df, Y_test_df = test_df\n",
        "\n",
        "# Create test data with spouse variable flipped\n",
        "X_test_df_spouse_flipped = X_test_df.copy()\n",
        "X_test_df_spouse_flipped.relationship_Wife = 1 - X_test_df_spouse_flipped.relationship_Wife\n",
        "\n",
        "X_train_df.head()"
      ],
      "metadata": {
        "colab": {
          "base_uri": "https://localhost:8080/",
          "height": 334
        },
        "id": "MbAFb9hStSj-",
        "outputId": "e5fe4df5-6404-42f4-c61f-ec81003fc657"
      },
      "execution_count": 81,
      "outputs": [
        {
          "output_type": "execute_result",
          "data": {
            "text/plain": [
              "        age  capital-gain  capital-loss  education-num  hours-per-week  \\\n",
              "0  0.409331      -0.14652     -0.218253      -1.613806       -0.496770   \n",
              "1 -1.104187      -0.14652     -0.218253      -0.050064       -1.741764   \n",
              "2  1.393118      -0.14652     -0.218253      -0.440999        2.574214   \n",
              "3 -0.423104      -0.14652     -0.218253      -0.440999        1.163221   \n",
              "4 -0.877159      -0.14652     -0.218253       1.122743        0.748224   \n",
              "\n",
              "   marital-status_Divorced  marital-status_Married-AF-spouse  \\\n",
              "0                        0                                 0   \n",
              "1                        0                                 0   \n",
              "2                        0                                 0   \n",
              "3                        0                                 0   \n",
              "4                        0                                 0   \n",
              "\n",
              "   marital-status_Married-civ-spouse  marital-status_Married-spouse-absent  \\\n",
              "0                                  0                                     0   \n",
              "1                                  0                                     0   \n",
              "2                                  1                                     0   \n",
              "3                                  1                                     0   \n",
              "4                                  1                                     0   \n",
              "\n",
              "   marital-status_Never-married  ...  relationship_Unmarried  \\\n",
              "0                             1  ...                       1   \n",
              "1                             1  ...                       0   \n",
              "2                             0  ...                       0   \n",
              "3                             0  ...                       0   \n",
              "4                             0  ...                       0   \n",
              "\n",
              "   relationship_Wife  sex_Male  workclass_Federal-gov  workclass_Local-gov  \\\n",
              "0                  0         0                      0                    0   \n",
              "1                  0         0                      0                    0   \n",
              "2                  0         1                      0                    1   \n",
              "3                  0         1                      0                    0   \n",
              "4                  0         1                      0                    0   \n",
              "\n",
              "   workclass_Private  workclass_Self-emp-inc  workclass_Self-emp-not-inc  \\\n",
              "0                  1                       0                           0   \n",
              "1                  1                       0                           0   \n",
              "2                  0                       0                           0   \n",
              "3                  1                       0                           0   \n",
              "4                  0                       0                           1   \n",
              "\n",
              "   workclass_State-gov  workclass_Without-pay  \n",
              "0                    0                      0  \n",
              "1                    0                      0  \n",
              "2                    0                      0  \n",
              "3                    0                      0  \n",
              "4                    0                      0  \n",
              "\n",
              "[5 rows x 41 columns]"
            ],
            "text/html": [
              "\n",
              "  <div id=\"df-3af9e86b-b549-4e0f-acf5-94c3f9fc8eb1\">\n",
              "    <div class=\"colab-df-container\">\n",
              "      <div>\n",
              "<style scoped>\n",
              "    .dataframe tbody tr th:only-of-type {\n",
              "        vertical-align: middle;\n",
              "    }\n",
              "\n",
              "    .dataframe tbody tr th {\n",
              "        vertical-align: top;\n",
              "    }\n",
              "\n",
              "    .dataframe thead th {\n",
              "        text-align: right;\n",
              "    }\n",
              "</style>\n",
              "<table border=\"1\" class=\"dataframe\">\n",
              "  <thead>\n",
              "    <tr style=\"text-align: right;\">\n",
              "      <th></th>\n",
              "      <th>age</th>\n",
              "      <th>capital-gain</th>\n",
              "      <th>capital-loss</th>\n",
              "      <th>education-num</th>\n",
              "      <th>hours-per-week</th>\n",
              "      <th>marital-status_Divorced</th>\n",
              "      <th>marital-status_Married-AF-spouse</th>\n",
              "      <th>marital-status_Married-civ-spouse</th>\n",
              "      <th>marital-status_Married-spouse-absent</th>\n",
              "      <th>marital-status_Never-married</th>\n",
              "      <th>...</th>\n",
              "      <th>relationship_Unmarried</th>\n",
              "      <th>relationship_Wife</th>\n",
              "      <th>sex_Male</th>\n",
              "      <th>workclass_Federal-gov</th>\n",
              "      <th>workclass_Local-gov</th>\n",
              "      <th>workclass_Private</th>\n",
              "      <th>workclass_Self-emp-inc</th>\n",
              "      <th>workclass_Self-emp-not-inc</th>\n",
              "      <th>workclass_State-gov</th>\n",
              "      <th>workclass_Without-pay</th>\n",
              "    </tr>\n",
              "  </thead>\n",
              "  <tbody>\n",
              "    <tr>\n",
              "      <th>0</th>\n",
              "      <td>0.409331</td>\n",
              "      <td>-0.14652</td>\n",
              "      <td>-0.218253</td>\n",
              "      <td>-1.613806</td>\n",
              "      <td>-0.496770</td>\n",
              "      <td>0</td>\n",
              "      <td>0</td>\n",
              "      <td>0</td>\n",
              "      <td>0</td>\n",
              "      <td>1</td>\n",
              "      <td>...</td>\n",
              "      <td>1</td>\n",
              "      <td>0</td>\n",
              "      <td>0</td>\n",
              "      <td>0</td>\n",
              "      <td>0</td>\n",
              "      <td>1</td>\n",
              "      <td>0</td>\n",
              "      <td>0</td>\n",
              "      <td>0</td>\n",
              "      <td>0</td>\n",
              "    </tr>\n",
              "    <tr>\n",
              "      <th>1</th>\n",
              "      <td>-1.104187</td>\n",
              "      <td>-0.14652</td>\n",
              "      <td>-0.218253</td>\n",
              "      <td>-0.050064</td>\n",
              "      <td>-1.741764</td>\n",
              "      <td>0</td>\n",
              "      <td>0</td>\n",
              "      <td>0</td>\n",
              "      <td>0</td>\n",
              "      <td>1</td>\n",
              "      <td>...</td>\n",
              "      <td>0</td>\n",
              "      <td>0</td>\n",
              "      <td>0</td>\n",
              "      <td>0</td>\n",
              "      <td>0</td>\n",
              "      <td>1</td>\n",
              "      <td>0</td>\n",
              "      <td>0</td>\n",
              "      <td>0</td>\n",
              "      <td>0</td>\n",
              "    </tr>\n",
              "    <tr>\n",
              "      <th>2</th>\n",
              "      <td>1.393118</td>\n",
              "      <td>-0.14652</td>\n",
              "      <td>-0.218253</td>\n",
              "      <td>-0.440999</td>\n",
              "      <td>2.574214</td>\n",
              "      <td>0</td>\n",
              "      <td>0</td>\n",
              "      <td>1</td>\n",
              "      <td>0</td>\n",
              "      <td>0</td>\n",
              "      <td>...</td>\n",
              "      <td>0</td>\n",
              "      <td>0</td>\n",
              "      <td>1</td>\n",
              "      <td>0</td>\n",
              "      <td>1</td>\n",
              "      <td>0</td>\n",
              "      <td>0</td>\n",
              "      <td>0</td>\n",
              "      <td>0</td>\n",
              "      <td>0</td>\n",
              "    </tr>\n",
              "    <tr>\n",
              "      <th>3</th>\n",
              "      <td>-0.423104</td>\n",
              "      <td>-0.14652</td>\n",
              "      <td>-0.218253</td>\n",
              "      <td>-0.440999</td>\n",
              "      <td>1.163221</td>\n",
              "      <td>0</td>\n",
              "      <td>0</td>\n",
              "      <td>1</td>\n",
              "      <td>0</td>\n",
              "      <td>0</td>\n",
              "      <td>...</td>\n",
              "      <td>0</td>\n",
              "      <td>0</td>\n",
              "      <td>1</td>\n",
              "      <td>0</td>\n",
              "      <td>0</td>\n",
              "      <td>1</td>\n",
              "      <td>0</td>\n",
              "      <td>0</td>\n",
              "      <td>0</td>\n",
              "      <td>0</td>\n",
              "    </tr>\n",
              "    <tr>\n",
              "      <th>4</th>\n",
              "      <td>-0.877159</td>\n",
              "      <td>-0.14652</td>\n",
              "      <td>-0.218253</td>\n",
              "      <td>1.122743</td>\n",
              "      <td>0.748224</td>\n",
              "      <td>0</td>\n",
              "      <td>0</td>\n",
              "      <td>1</td>\n",
              "      <td>0</td>\n",
              "      <td>0</td>\n",
              "      <td>...</td>\n",
              "      <td>0</td>\n",
              "      <td>0</td>\n",
              "      <td>1</td>\n",
              "      <td>0</td>\n",
              "      <td>0</td>\n",
              "      <td>0</td>\n",
              "      <td>0</td>\n",
              "      <td>1</td>\n",
              "      <td>0</td>\n",
              "      <td>0</td>\n",
              "    </tr>\n",
              "  </tbody>\n",
              "</table>\n",
              "<p>5 rows × 41 columns</p>\n",
              "</div>\n",
              "      <button class=\"colab-df-convert\" onclick=\"convertToInteractive('df-3af9e86b-b549-4e0f-acf5-94c3f9fc8eb1')\"\n",
              "              title=\"Convert this dataframe to an interactive table.\"\n",
              "              style=\"display:none;\">\n",
              "        \n",
              "  <svg xmlns=\"http://www.w3.org/2000/svg\" height=\"24px\"viewBox=\"0 0 24 24\"\n",
              "       width=\"24px\">\n",
              "    <path d=\"M0 0h24v24H0V0z\" fill=\"none\"/>\n",
              "    <path d=\"M18.56 5.44l.94 2.06.94-2.06 2.06-.94-2.06-.94-.94-2.06-.94 2.06-2.06.94zm-11 1L8.5 8.5l.94-2.06 2.06-.94-2.06-.94L8.5 2.5l-.94 2.06-2.06.94zm10 10l.94 2.06.94-2.06 2.06-.94-2.06-.94-.94-2.06-.94 2.06-2.06.94z\"/><path d=\"M17.41 7.96l-1.37-1.37c-.4-.4-.92-.59-1.43-.59-.52 0-1.04.2-1.43.59L10.3 9.45l-7.72 7.72c-.78.78-.78 2.05 0 2.83L4 21.41c.39.39.9.59 1.41.59.51 0 1.02-.2 1.41-.59l7.78-7.78 2.81-2.81c.8-.78.8-2.07 0-2.86zM5.41 20L4 18.59l7.72-7.72 1.47 1.35L5.41 20z\"/>\n",
              "  </svg>\n",
              "      </button>\n",
              "      \n",
              "  <style>\n",
              "    .colab-df-container {\n",
              "      display:flex;\n",
              "      flex-wrap:wrap;\n",
              "      gap: 12px;\n",
              "    }\n",
              "\n",
              "    .colab-df-convert {\n",
              "      background-color: #E8F0FE;\n",
              "      border: none;\n",
              "      border-radius: 50%;\n",
              "      cursor: pointer;\n",
              "      display: none;\n",
              "      fill: #1967D2;\n",
              "      height: 32px;\n",
              "      padding: 0 0 0 0;\n",
              "      width: 32px;\n",
              "    }\n",
              "\n",
              "    .colab-df-convert:hover {\n",
              "      background-color: #E2EBFA;\n",
              "      box-shadow: 0px 1px 2px rgba(60, 64, 67, 0.3), 0px 1px 3px 1px rgba(60, 64, 67, 0.15);\n",
              "      fill: #174EA6;\n",
              "    }\n",
              "\n",
              "    [theme=dark] .colab-df-convert {\n",
              "      background-color: #3B4455;\n",
              "      fill: #D2E3FC;\n",
              "    }\n",
              "\n",
              "    [theme=dark] .colab-df-convert:hover {\n",
              "      background-color: #434B5C;\n",
              "      box-shadow: 0px 1px 3px 1px rgba(0, 0, 0, 0.15);\n",
              "      filter: drop-shadow(0px 1px 2px rgba(0, 0, 0, 0.3));\n",
              "      fill: #FFFFFF;\n",
              "    }\n",
              "  </style>\n",
              "\n",
              "      <script>\n",
              "        const buttonEl =\n",
              "          document.querySelector('#df-3af9e86b-b549-4e0f-acf5-94c3f9fc8eb1 button.colab-df-convert');\n",
              "        buttonEl.style.display =\n",
              "          google.colab.kernel.accessAllowed ? 'block' : 'none';\n",
              "\n",
              "        async function convertToInteractive(key) {\n",
              "          const element = document.querySelector('#df-3af9e86b-b549-4e0f-acf5-94c3f9fc8eb1');\n",
              "          const dataTable =\n",
              "            await google.colab.kernel.invokeFunction('convertToInteractive',\n",
              "                                                     [key], {});\n",
              "          if (!dataTable) return;\n",
              "\n",
              "          const docLinkHtml = 'Like what you see? Visit the ' +\n",
              "            '<a target=\"_blank\" href=https://colab.research.google.com/notebooks/data_table.ipynb>data table notebook</a>'\n",
              "            + ' to learn more about interactive tables.';\n",
              "          element.innerHTML = '';\n",
              "          dataTable['output_type'] = 'display_data';\n",
              "          await google.colab.output.renderOutput(dataTable, element);\n",
              "          const docLink = document.createElement('div');\n",
              "          docLink.innerHTML = docLinkHtml;\n",
              "          element.appendChild(docLink);\n",
              "        }\n",
              "      </script>\n",
              "    </div>\n",
              "  </div>\n",
              "  "
            ]
          },
          "metadata": {},
          "execution_count": 81
        }
      ]
    },
    {
      "cell_type": "code",
      "source": [
        "device = torch.device('cpu')\n",
        "\n",
        "protected_vars = ['race_White', 'sex_Male']\n",
        "protected_idxs = [X_train_df.columns.get_loc(var) for var in protected_vars]\n",
        "\n",
        "X_train, y_train = data.convert_df_to_tensor(X_train_df, Y_train_df)\n",
        "X_test, y_test = data.convert_df_to_tensor(X_test_df, Y_test_df)\n",
        "X_test_flip, y_test_flip = data.convert_df_to_tensor(X_test_df_spouse_flipped, Y_test_df)\n",
        "\n"
      ],
      "metadata": {
        "id": "Z_VwaiYxuL8t"
      },
      "execution_count": 75,
      "outputs": []
    },
    {
      "cell_type": "code",
      "source": [
        "# Create the training and testing dataset\n",
        "train_ds = AdultDataset(X_train, y_train)\n",
        "test_ds = AdultDataset(X_test, y_test)\n",
        "test_ds_flip = AdultDataset(X_test_flip, y_test_flip)\n",
        "\n",
        "# Create train and test dataloaders\n",
        "train_dl = DataLoader(train_ds, batch_size=64, shuffle=True)\n",
        "test_dl = DataLoader(test_ds, batch_size=1000, shuffle=False)\n",
        "test_dl_flip = DataLoader(test_ds_flip, batch_size=1000, shuffle=False)\n"
      ],
      "metadata": {
        "id": "KlI2VCAg4R51"
      },
      "execution_count": null,
      "outputs": []
    },
    {
      "cell_type": "code",
      "source": [
        "# Create a fully connected neural network\n",
        "\n",
        "class Model(nn.Module):\n",
        "\n",
        "    def __init__(self, input_size, output_size):\n",
        "\n",
        "        super().__init__()\n",
        "        self.fc1 = nn.Linear(input_size, 100)\n",
        "        self.fc2 = nn.Linear(100, 100)\n",
        "        self.fcout = nn.Linear(100, output_size)\n",
        "\n",
        "    def forward(self, x):\n",
        "\n",
        "        x = F.relu(self.fc1(x))\n",
        "        x = F.relu(self.fc2(x))\n",
        "        x = self.fcout(x)\n",
        "        return x\n"
      ],
      "metadata": {
        "id": "gJtYbRjwuRBx"
      },
      "execution_count": 52,
      "outputs": []
    },
    {
      "cell_type": "code",
      "source": [
        "### Standard training\n",
        "\n",
        "input_size = X_train.shape[1]\n",
        "output_size = 2\n",
        "\n",
        "network_standard = Model(input_size, output_size).to(device)\n",
        "optimizer = torch.optim.Adam(network_standard.parameters(), lr=1e-3)\n",
        "loss_fn = F.cross_entropy\n",
        "\n",
        "EPOCHS = 10\n"
      ],
      "metadata": {
        "id": "cP33qPy7ubMB"
      },
      "execution_count": 53,
      "outputs": []
    },
    {
      "cell_type": "code",
      "source": [
        "network_standard.train()\n",
        "\n",
        "for epoch in range(EPOCHS):\n",
        "\n",
        "    for x, y in train_dl:\n",
        "\n",
        "        x, y = x.to(device), y.to(device)\n",
        "        optimizer.zero_grad()\n",
        "        y_pred = network_standard(x).squeeze()\n",
        "        loss = loss_fn(y_pred, y)\n",
        "        loss.backward()\n",
        "        optimizer.step()\n",
        "\n",
        "    if epoch % 10 == 0:\n",
        "        print(f'{epoch} completed')"
      ],
      "metadata": {
        "colab": {
          "base_uri": "https://localhost:8080/"
        },
        "id": "CDwKQjWhui2g",
        "outputId": "70ad0131-9ff9-44ee-88ee-3e4394357576"
      },
      "execution_count": 54,
      "outputs": [
        {
          "output_type": "stream",
          "name": "stdout",
          "text": [
            "0 completed\n"
          ]
        }
      ]
    },
    {
      "cell_type": "code",
      "source": [
        "accuracy = metrics.accuracy(network_standard, test_dl, device)\n",
        "balanced_acc = metrics.balanced_accuracy(network_standard, test_dl, device)\n",
        "spouse_consistency = metrics.spouse_consistency(network_standard, test_dl, test_dl_flip, device)\n",
        "\n",
        "print(f'Accuracy: {accuracy}')\n",
        "print(f'Balanced accuracy: {balanced_acc}')\n",
        "print(f'Spouse consistency: {spouse_consistency}')"
      ],
      "metadata": {
        "colab": {
          "base_uri": "https://localhost:8080/"
        },
        "id": "8iPkEzv4uqqG",
        "outputId": "eccadd3b-bdc1-4b5e-92a6-4921d8442293"
      },
      "execution_count": 55,
      "outputs": [
        {
          "output_type": "stream",
          "name": "stdout",
          "text": [
            "Accuracy: 0.8522777557373047\n",
            "Balanced accuracy: 0.7630170766626202\n",
            "Spouse consistency: 0.933547103051747\n"
          ]
        }
      ]
    },
    {
      "cell_type": "code",
      "source": [
        "### Individually fair training\n",
        "\n",
        "network_fair = Model(input_size, output_size).to(device)\n",
        "optimizer = torch.optim.Adam(network_fair.parameters(), lr=1e-3)\n",
        "lossfn = F.cross_entropy\n",
        "\n",
        "distance_x = distances.SVDSensitiveSubspaceDistance()\n",
        "distance_y = distances.SquaredEuclideanDistance()\n"
      ],
      "metadata": {
        "id": "G_tmShWZuy9C"
      },
      "execution_count": 83,
      "outputs": []
    },
    {
      "cell_type": "code",
      "source": [
        "# distance_x.fit(X_train, protected_idxs)\n",
        "distance_x.fit(X_train, n_components=10)\n",
        "\n",
        "distance_y.fit(num_dims=output_size)\n",
        "\n",
        "distance_x.to(device)\n",
        "distance_y.to(device)"
      ],
      "metadata": {
        "id": "WKF5E5ojw_R5"
      },
      "execution_count": 88,
      "outputs": []
    },
    {
      "cell_type": "code",
      "source": [],
      "metadata": {
        "id": "T4V3OCZp269q"
      },
      "execution_count": null,
      "outputs": []
    },
    {
      "cell_type": "code",
      "source": [
        "rho = 5.0\n",
        "eps = 0.1\n",
        "auditor_nsteps = 100\n",
        "auditor_lr = 1e-3\n",
        "\n",
        "fairalgo = SenSeI(network_fair, distance_x, distance_y, lossfn, rho, eps, auditor_nsteps, auditor_lr)\n"
      ],
      "metadata": {
        "id": "eZyYM3DrxyX5"
      },
      "execution_count": 89,
      "outputs": []
    },
    {
      "cell_type": "code",
      "source": [
        "fairalgo.train()\n",
        "\n",
        "for epoch in range(EPOCHS):\n",
        "    for x, y in train_dl:\n",
        "        x, y = x.to(device), y.to(device)\n",
        "        optimizer.zero_grad()\n",
        "        result = fairalgo(x, y)\n",
        "        result.loss.backward()\n",
        "        optimizer.step()\n",
        "    \n",
        "    if epoch % 10 == 0:\n",
        "        print(f'{epoch} completed')"
      ],
      "metadata": {
        "colab": {
          "base_uri": "https://localhost:8080/"
        },
        "id": "HKO65VzDx53J",
        "outputId": "095c3b4d-0dfc-40c8-b8d8-027762d590b3"
      },
      "execution_count": 90,
      "outputs": [
        {
          "output_type": "stream",
          "name": "stdout",
          "text": [
            "0 completed\n"
          ]
        }
      ]
    },
    {
      "cell_type": "code",
      "source": [
        "accuracy = metrics.accuracy(network_fair, test_dl, device)\n",
        "balanced_acc = metrics.balanced_accuracy(network_fair, test_dl, device)\n",
        "spouse_consistency = metrics.spouse_consistency(network_fair, test_dl, test_dl_flip, device)\n",
        "\n",
        "print(f'Accuracy: {accuracy}')\n",
        "print(f'Balanced accuracy: {balanced_acc}')\n",
        "print(f'Spouse consistency: {spouse_consistency}')"
      ],
      "metadata": {
        "colab": {
          "base_uri": "https://localhost:8080/"
        },
        "id": "_wAO6HbhK1xK",
        "outputId": "46bfc5e6-577f-4293-85a4-b7bf4a129e26"
      },
      "execution_count": 91,
      "outputs": [
        {
          "output_type": "stream",
          "name": "stdout",
          "text": [
            "Accuracy: 0.8374612927436829\n",
            "Balanced accuracy: 0.7381569325516283\n",
            "Spouse consistency: 1.0\n"
          ]
        }
      ]
    },
    {
      "cell_type": "code",
      "source": [
        "# Auditing using the SenSR Auditor\n",
        "\n",
        "audit_nsteps = 1000\n",
        "audit_lr = 0.1\n",
        "\n",
        "auditor = SenSRAuditor(loss_fn=loss_fn, distance_x=distance_x, num_steps=audit_nsteps, lr=audit_lr, max_noise=0.5, min_noise=-0.5)\n",
        "\n",
        "audit_result_stdmodel = auditor.audit(network_standard, X_test, y_test, lambda_param=10.0, audit_threshold=1.15)\n",
        "audit_result_fairmodel = auditor.audit(network_fair, X_test, y_test, lambda_param=10.0, audit_threshold=1.15)\n",
        "\n",
        "print(\"=\"*100)\n",
        "print(f\"Loss ratio (Standard model) : {audit_result_stdmodel.lower_bound}. Is model fair: {audit_result_stdmodel.is_model_fair}\")\n",
        "print(f\"Loss ratio (fair model) : {audit_result_fairmodel.lower_bound}. Is model fair: {audit_result_fairmodel.is_model_fair}\")\n",
        "print(\"-\"*100)\n",
        "print(\"\\t As signified by these numbers, the fair model is fairer than the standard model\")\n",
        "print(\"=\"*100)"
      ],
      "metadata": {
        "colab": {
          "base_uri": "https://localhost:8080/"
        },
        "id": "AxHSpnk5LHKI",
        "outputId": "7edfd057-c237-4968-f401-6dd2ef0cddfa"
      },
      "execution_count": 93,
      "outputs": [
        {
          "output_type": "stream",
          "name": "stderr",
          "text": [
            "/usr/local/lib/python3.7/dist-packages/inFairness/auditor/auditor.py:54: RuntimeWarning: invalid value encountered in true_divide\n"
          ]
        },
        {
          "output_type": "stream",
          "name": "stdout",
          "text": [
            "====================================================================================================\n",
            "Loss ratio (Standard model) : 2.166024779650726. Is model fair: False\n",
            "Loss ratio (fair model) : 1.061765205480569. Is model fair: True\n",
            "----------------------------------------------------------------------------------------------------\n",
            "\t As signified by these numbers, the fair model is fairer than the standard model\n",
            "====================================================================================================\n"
          ]
        }
      ]
    },
    {
      "cell_type": "code",
      "source": [
        "# Auditing using the SenSeI Auditor\n",
        "\n",
        "audit_nsteps = 500\n",
        "audit_lr = 0.001\n",
        "\n",
        "auditor = SenSeIAuditor(distance_x=distance_x, distance_y=distance_y, num_steps=audit_nsteps, lr=audit_lr, max_noise=0.5, min_noise=-0.5)\n",
        "\n",
        "audit_result_stdmodel = auditor.audit(network_standard, X_test, y_test, loss_fn, audit_threshold=1.15, lambda_param=50.0)\n",
        "audit_result_fairmodel = auditor.audit(network_fair, X_test, y_test, loss_fn, audit_threshold=1.15, lambda_param=50.0)\n",
        "\n",
        "print(\"=\"*100)\n",
        "print(f\"Loss ratio (Standard model) : {audit_result_stdmodel.lower_bound}. Is model fair: {audit_result_stdmodel.is_model_fair}\")\n",
        "print(f\"Loss ratio (fair model) : {audit_result_fairmodel.lower_bound}. Is model fair: {audit_result_fairmodel.is_model_fair}\")\n",
        "print(\"-\"*100)\n",
        "print(\"\\t As signified by these numbers, the fair model is fairer than the standard model\")\n",
        "print(\"=\"*100)\n"
      ],
      "metadata": {
        "colab": {
          "base_uri": "https://localhost:8080/"
        },
        "id": "g7mK7NBGLKjC",
        "outputId": "22c3d7e8-d68d-4eb4-d3e2-d0ddea4bab9a"
      },
      "execution_count": 97,
      "outputs": [
        {
          "output_type": "stream",
          "name": "stdout",
          "text": [
            "====================================================================================================\n",
            "Loss ratio (Standard model) : 65720251.76228812. Is model fair: False\n",
            "Loss ratio (fair model) : 1.3731180167326456. Is model fair: False\n",
            "----------------------------------------------------------------------------------------------------\n",
            "\t As signified by these numbers, the fair model is fairer than the standard model\n",
            "====================================================================================================\n"
          ]
        }
      ]
    },
    {
      "cell_type": "code",
      "source": [
        "import os\n",
        "import requests\n",
        "import zipfile\n",
        "\n",
        "bank_full_data= 'https://archive.ics.uci.edu/ml/machine-learning-databases/00222/bank.zip'\n",
        "    \n",
        "dirpaths = {}\n",
        "rootdir = \"./bank_marketing_dataset\"\n",
        "os.makedirs(rootdir, exist_ok=True)\n",
        "\n",
        "import requests, zipfile, io\n",
        "r = requests.get(bank_full_data)\n",
        "z = zipfile.ZipFile(io.BytesIO(r.content))\n",
        "z.extractall(rootdir)\n",
        "\n",
        "# r = requests.get(bank_full_data)\n",
        "# with zipfile.ZipFile(bank_full_data, 'r') as zip_ref:\n",
        "#     zip_ref.extractall(rootdir)\n",
        "\n",
        "    "
      ],
      "metadata": {
        "id": "GmC3A8YSRlB8"
      },
      "execution_count": 113,
      "outputs": []
    },
    {
      "cell_type": "code",
      "source": [],
      "metadata": {
        "id": "3DfoBMrsvnJ-"
      },
      "execution_count": null,
      "outputs": []
    },
    {
      "cell_type": "code",
      "source": [],
      "metadata": {
        "id": "gU53At2Rvr-A"
      },
      "execution_count": null,
      "outputs": []
    },
    {
      "cell_type": "code",
      "source": [
        "def get_input_output_df(data,target):\n",
        "\n",
        "    cols = sorted(data.columns)\n",
        "    output_col = target\n",
        "    input_cols = [col for col in cols if col not in output_col]\n",
        "\n",
        "    df_X = data[input_cols]\n",
        "    df_Y = data[output_col]\n",
        "    \n",
        "    return df_X, df_Y"
      ],
      "metadata": {
        "id": "T8ldc1CwdojH"
      },
      "execution_count": 170,
      "outputs": []
    },
    {
      "cell_type": "code",
      "source": [
        "import pandas as pd\n",
        "from sklearn.preprocessing import StandardScaler\n",
        "names = ['age','job','marital','education',\n",
        "    'default','balance','housing','loan','contact',\n",
        "    'day','month','duration','campaign','pdays',\n",
        "    'previous','poutcome','y']\n",
        "data = pd.read_csv(\n",
        "            rootdir+'/bank-full.csv', sep=';', header=None, names=names,\n",
        "            na_values=['?'], skipinitialspace=True,skiprows=1\n",
        "        )\n",
        "\n",
        "# remove rows with NaNs\n",
        "data.dropna(inplace=True)\n",
        "print(data)\n",
        "categorical_vars = [\n",
        "        'job', 'marital', 'education', \n",
        "        'default', 'housing', 'contact', 'month',\n",
        "        'poutcome'\n",
        "    ]\n",
        "data = pd.get_dummies(data, columns=categorical_vars)\n",
        "print(data)\n",
        "\n",
        "# Split into train/test splits\n",
        "train_data = data.sample(frac=0.8, random_state=123)\n",
        "test_data = data.drop(train_data.index).reset_index(drop=True)\n",
        "train_data = train_data.reset_index(drop=True)\n",
        "\n",
        "continuous_vars = [\n",
        "        'age', 'balance', 'day', 'duration',\n",
        "        'campaign', 'pdays','previous'\n",
        "    ]\n",
        "scaler = StandardScaler().fit(train_data[continuous_vars])\n",
        "train_data[continuous_vars] = scaler.transform(train_data[continuous_vars])\n",
        "test_data[continuous_vars] = scaler.transform(test_data[continuous_vars])\n",
        "\n",
        "train_data = get_input_output_df(train_data,'y')\n",
        "test_data = get_input_output_df(test_data,'y')\n"
      ],
      "metadata": {
        "id": "9AMKIBt0XT72"
      },
      "execution_count": null,
      "outputs": []
    },
    {
      "cell_type": "code",
      "source": [
        "X_train_df, Y_train_df = train_data\n",
        "X_test_df, Y_test_df = test_data\n"
      ],
      "metadata": {
        "id": "g9h4JLzBhLdj"
      },
      "execution_count": 129,
      "outputs": []
    },
    {
      "cell_type": "code",
      "source": [
        "X_train_df.head()\n"
      ],
      "metadata": {
        "colab": {
          "base_uri": "https://localhost:8080/",
          "height": 299
        },
        "id": "8PHh5F49hbU1",
        "outputId": "7b42ea7a-8909-4736-e269-d3f9619d7785"
      },
      "execution_count": 130,
      "outputs": [
        {
          "output_type": "execute_result",
          "data": {
            "text/plain": [
              "        age   balance  campaign  contact_cellular  contact_telephone  \\\n",
              "0  1.410405 -0.248010 -0.246580                 0                  0   \n",
              "1 -0.371716 -0.228508 -0.246580                 1                  0   \n",
              "2 -1.309675  0.201506 -0.568108                 1                  0   \n",
              "3  0.191059 -0.439127  0.396476                 1                  0   \n",
              "4  1.597997 -0.702076  0.396476                 1                  0   \n",
              "\n",
              "   contact_unknown       day  default_no  default_yes  duration  ...  \\\n",
              "0                1  1.582194           1            0  1.078641  ...   \n",
              "1                0 -1.058473           1            0 -0.755420  ...   \n",
              "2                0 -1.178503           1            0 -0.626919  ...   \n",
              "3                0  0.741982           1            0 -0.073975  ...   \n",
              "4                0 -0.938443           1            0 -0.712586  ...   \n",
              "\n",
              "   month_may  month_nov  month_oct  month_sep     pdays  poutcome_failure  \\\n",
              "0          1          0          0          0 -0.411002                 0   \n",
              "1          0          0          0          0 -0.411002                 0   \n",
              "2          0          0          0          0 -0.411002                 0   \n",
              "3          0          0          0          0 -0.411002                 0   \n",
              "4          1          0          0          0 -0.411002                 0   \n",
              "\n",
              "   poutcome_other  poutcome_success  poutcome_unknown  previous  \n",
              "0               0                 0                 1 -0.242557  \n",
              "1               0                 0                 1 -0.242557  \n",
              "2               0                 0                 1 -0.242557  \n",
              "3               0                 0                 1 -0.242557  \n",
              "4               0                 0                 1 -0.242557  \n",
              "\n",
              "[5 rows x 50 columns]"
            ],
            "text/html": [
              "\n",
              "  <div id=\"df-c4cbf77c-c79e-41ce-9f23-31fce470904e\">\n",
              "    <div class=\"colab-df-container\">\n",
              "      <div>\n",
              "<style scoped>\n",
              "    .dataframe tbody tr th:only-of-type {\n",
              "        vertical-align: middle;\n",
              "    }\n",
              "\n",
              "    .dataframe tbody tr th {\n",
              "        vertical-align: top;\n",
              "    }\n",
              "\n",
              "    .dataframe thead th {\n",
              "        text-align: right;\n",
              "    }\n",
              "</style>\n",
              "<table border=\"1\" class=\"dataframe\">\n",
              "  <thead>\n",
              "    <tr style=\"text-align: right;\">\n",
              "      <th></th>\n",
              "      <th>age</th>\n",
              "      <th>balance</th>\n",
              "      <th>campaign</th>\n",
              "      <th>contact_cellular</th>\n",
              "      <th>contact_telephone</th>\n",
              "      <th>contact_unknown</th>\n",
              "      <th>day</th>\n",
              "      <th>default_no</th>\n",
              "      <th>default_yes</th>\n",
              "      <th>duration</th>\n",
              "      <th>...</th>\n",
              "      <th>month_may</th>\n",
              "      <th>month_nov</th>\n",
              "      <th>month_oct</th>\n",
              "      <th>month_sep</th>\n",
              "      <th>pdays</th>\n",
              "      <th>poutcome_failure</th>\n",
              "      <th>poutcome_other</th>\n",
              "      <th>poutcome_success</th>\n",
              "      <th>poutcome_unknown</th>\n",
              "      <th>previous</th>\n",
              "    </tr>\n",
              "  </thead>\n",
              "  <tbody>\n",
              "    <tr>\n",
              "      <th>0</th>\n",
              "      <td>1.410405</td>\n",
              "      <td>-0.248010</td>\n",
              "      <td>-0.246580</td>\n",
              "      <td>0</td>\n",
              "      <td>0</td>\n",
              "      <td>1</td>\n",
              "      <td>1.582194</td>\n",
              "      <td>1</td>\n",
              "      <td>0</td>\n",
              "      <td>1.078641</td>\n",
              "      <td>...</td>\n",
              "      <td>1</td>\n",
              "      <td>0</td>\n",
              "      <td>0</td>\n",
              "      <td>0</td>\n",
              "      <td>-0.411002</td>\n",
              "      <td>0</td>\n",
              "      <td>0</td>\n",
              "      <td>0</td>\n",
              "      <td>1</td>\n",
              "      <td>-0.242557</td>\n",
              "    </tr>\n",
              "    <tr>\n",
              "      <th>1</th>\n",
              "      <td>-0.371716</td>\n",
              "      <td>-0.228508</td>\n",
              "      <td>-0.246580</td>\n",
              "      <td>1</td>\n",
              "      <td>0</td>\n",
              "      <td>0</td>\n",
              "      <td>-1.058473</td>\n",
              "      <td>1</td>\n",
              "      <td>0</td>\n",
              "      <td>-0.755420</td>\n",
              "      <td>...</td>\n",
              "      <td>0</td>\n",
              "      <td>0</td>\n",
              "      <td>0</td>\n",
              "      <td>0</td>\n",
              "      <td>-0.411002</td>\n",
              "      <td>0</td>\n",
              "      <td>0</td>\n",
              "      <td>0</td>\n",
              "      <td>1</td>\n",
              "      <td>-0.242557</td>\n",
              "    </tr>\n",
              "    <tr>\n",
              "      <th>2</th>\n",
              "      <td>-1.309675</td>\n",
              "      <td>0.201506</td>\n",
              "      <td>-0.568108</td>\n",
              "      <td>1</td>\n",
              "      <td>0</td>\n",
              "      <td>0</td>\n",
              "      <td>-1.178503</td>\n",
              "      <td>1</td>\n",
              "      <td>0</td>\n",
              "      <td>-0.626919</td>\n",
              "      <td>...</td>\n",
              "      <td>0</td>\n",
              "      <td>0</td>\n",
              "      <td>0</td>\n",
              "      <td>0</td>\n",
              "      <td>-0.411002</td>\n",
              "      <td>0</td>\n",
              "      <td>0</td>\n",
              "      <td>0</td>\n",
              "      <td>1</td>\n",
              "      <td>-0.242557</td>\n",
              "    </tr>\n",
              "    <tr>\n",
              "      <th>3</th>\n",
              "      <td>0.191059</td>\n",
              "      <td>-0.439127</td>\n",
              "      <td>0.396476</td>\n",
              "      <td>1</td>\n",
              "      <td>0</td>\n",
              "      <td>0</td>\n",
              "      <td>0.741982</td>\n",
              "      <td>1</td>\n",
              "      <td>0</td>\n",
              "      <td>-0.073975</td>\n",
              "      <td>...</td>\n",
              "      <td>0</td>\n",
              "      <td>0</td>\n",
              "      <td>0</td>\n",
              "      <td>0</td>\n",
              "      <td>-0.411002</td>\n",
              "      <td>0</td>\n",
              "      <td>0</td>\n",
              "      <td>0</td>\n",
              "      <td>1</td>\n",
              "      <td>-0.242557</td>\n",
              "    </tr>\n",
              "    <tr>\n",
              "      <th>4</th>\n",
              "      <td>1.597997</td>\n",
              "      <td>-0.702076</td>\n",
              "      <td>0.396476</td>\n",
              "      <td>1</td>\n",
              "      <td>0</td>\n",
              "      <td>0</td>\n",
              "      <td>-0.938443</td>\n",
              "      <td>1</td>\n",
              "      <td>0</td>\n",
              "      <td>-0.712586</td>\n",
              "      <td>...</td>\n",
              "      <td>1</td>\n",
              "      <td>0</td>\n",
              "      <td>0</td>\n",
              "      <td>0</td>\n",
              "      <td>-0.411002</td>\n",
              "      <td>0</td>\n",
              "      <td>0</td>\n",
              "      <td>0</td>\n",
              "      <td>1</td>\n",
              "      <td>-0.242557</td>\n",
              "    </tr>\n",
              "  </tbody>\n",
              "</table>\n",
              "<p>5 rows × 50 columns</p>\n",
              "</div>\n",
              "      <button class=\"colab-df-convert\" onclick=\"convertToInteractive('df-c4cbf77c-c79e-41ce-9f23-31fce470904e')\"\n",
              "              title=\"Convert this dataframe to an interactive table.\"\n",
              "              style=\"display:none;\">\n",
              "        \n",
              "  <svg xmlns=\"http://www.w3.org/2000/svg\" height=\"24px\"viewBox=\"0 0 24 24\"\n",
              "       width=\"24px\">\n",
              "    <path d=\"M0 0h24v24H0V0z\" fill=\"none\"/>\n",
              "    <path d=\"M18.56 5.44l.94 2.06.94-2.06 2.06-.94-2.06-.94-.94-2.06-.94 2.06-2.06.94zm-11 1L8.5 8.5l.94-2.06 2.06-.94-2.06-.94L8.5 2.5l-.94 2.06-2.06.94zm10 10l.94 2.06.94-2.06 2.06-.94-2.06-.94-.94-2.06-.94 2.06-2.06.94z\"/><path d=\"M17.41 7.96l-1.37-1.37c-.4-.4-.92-.59-1.43-.59-.52 0-1.04.2-1.43.59L10.3 9.45l-7.72 7.72c-.78.78-.78 2.05 0 2.83L4 21.41c.39.39.9.59 1.41.59.51 0 1.02-.2 1.41-.59l7.78-7.78 2.81-2.81c.8-.78.8-2.07 0-2.86zM5.41 20L4 18.59l7.72-7.72 1.47 1.35L5.41 20z\"/>\n",
              "  </svg>\n",
              "      </button>\n",
              "      \n",
              "  <style>\n",
              "    .colab-df-container {\n",
              "      display:flex;\n",
              "      flex-wrap:wrap;\n",
              "      gap: 12px;\n",
              "    }\n",
              "\n",
              "    .colab-df-convert {\n",
              "      background-color: #E8F0FE;\n",
              "      border: none;\n",
              "      border-radius: 50%;\n",
              "      cursor: pointer;\n",
              "      display: none;\n",
              "      fill: #1967D2;\n",
              "      height: 32px;\n",
              "      padding: 0 0 0 0;\n",
              "      width: 32px;\n",
              "    }\n",
              "\n",
              "    .colab-df-convert:hover {\n",
              "      background-color: #E2EBFA;\n",
              "      box-shadow: 0px 1px 2px rgba(60, 64, 67, 0.3), 0px 1px 3px 1px rgba(60, 64, 67, 0.15);\n",
              "      fill: #174EA6;\n",
              "    }\n",
              "\n",
              "    [theme=dark] .colab-df-convert {\n",
              "      background-color: #3B4455;\n",
              "      fill: #D2E3FC;\n",
              "    }\n",
              "\n",
              "    [theme=dark] .colab-df-convert:hover {\n",
              "      background-color: #434B5C;\n",
              "      box-shadow: 0px 1px 3px 1px rgba(0, 0, 0, 0.15);\n",
              "      filter: drop-shadow(0px 1px 2px rgba(0, 0, 0, 0.3));\n",
              "      fill: #FFFFFF;\n",
              "    }\n",
              "  </style>\n",
              "\n",
              "      <script>\n",
              "        const buttonEl =\n",
              "          document.querySelector('#df-c4cbf77c-c79e-41ce-9f23-31fce470904e button.colab-df-convert');\n",
              "        buttonEl.style.display =\n",
              "          google.colab.kernel.accessAllowed ? 'block' : 'none';\n",
              "\n",
              "        async function convertToInteractive(key) {\n",
              "          const element = document.querySelector('#df-c4cbf77c-c79e-41ce-9f23-31fce470904e');\n",
              "          const dataTable =\n",
              "            await google.colab.kernel.invokeFunction('convertToInteractive',\n",
              "                                                     [key], {});\n",
              "          if (!dataTable) return;\n",
              "\n",
              "          const docLinkHtml = 'Like what you see? Visit the ' +\n",
              "            '<a target=\"_blank\" href=https://colab.research.google.com/notebooks/data_table.ipynb>data table notebook</a>'\n",
              "            + ' to learn more about interactive tables.';\n",
              "          element.innerHTML = '';\n",
              "          dataTable['output_type'] = 'display_data';\n",
              "          await google.colab.output.renderOutput(dataTable, element);\n",
              "          const docLink = document.createElement('div');\n",
              "          docLink.innerHTML = docLinkHtml;\n",
              "          element.appendChild(docLink);\n",
              "        }\n",
              "      </script>\n",
              "    </div>\n",
              "  </div>\n",
              "  "
            ]
          },
          "metadata": {},
          "execution_count": 130
        }
      ]
    },
    {
      "cell_type": "code",
      "source": [
        "\n",
        "protected_vars = ['marital']\n",
        "protected_idxs = [X_train_df.columns.get_loc(var) for var in protected_vars]\n",
        "\n",
        "X_train, y_train = data.convert_df_to_tensor(X_train_df, Y_train_df)\n",
        "X_test, y_test = data.convert_df_to_tensor(X_test_df, Y_test_df)"
      ],
      "metadata": {
        "id": "Gwxv4-KniZHL"
      },
      "execution_count": null,
      "outputs": []
    },
    {
      "cell_type": "code",
      "source": [
        "train_ds = AdultDataset(X_train, y_train)\n",
        "test_ds = AdultDataset(X_test, y_test)\n",
        "test_ds_flip = AdultDataset(X_test_flip, y_test_flip)\n",
        "\n",
        "# Create train and test dataloaders\n",
        "train_dl = DataLoader(train_ds, batch_size=64, shuffle=True)\n",
        "test_dl = DataLoader(test_ds, batch_size=1000, shuffle=False)\n",
        "test_dl_flip = DataLoader(test_ds_flip, batch_size=1000, shuffle=False)\n"
      ],
      "metadata": {
        "id": "oOpjMqRCld-B"
      },
      "execution_count": 131,
      "outputs": []
    },
    {
      "cell_type": "code",
      "source": [
        "def training(X_train,train_dl,test_dl):\n",
        "  input_size = X_train.shape[1]\n",
        "  output_size = 2\n",
        "  network_standard = Model(input_size, output_size).to(device)\n",
        "  optimizer = torch.optim.Adam(network_standard.parameters(), lr=1e-3)\n",
        "  loss_fn = F.cross_entropy\n",
        "\n",
        "  EPOCHS = 10\n",
        "  network_standard.train()\n",
        "\n",
        "  for epoch in range(EPOCHS):\n",
        "\n",
        "      for x, y in train_dl:\n",
        "\n",
        "          x, y = x.to(device), y.to(device)\n",
        "          optimizer.zero_grad()\n",
        "          y_pred = network_standard(x).squeeze()\n",
        "          loss = loss_fn(y_pred, y)\n",
        "          loss.backward()\n",
        "          optimizer.step()\n",
        "\n",
        "      if epoch % 10 == 0:\n",
        "          print(f'{epoch} completed')\n",
        "  accuracy = metrics.accuracy(network_standard, test_dl, device)\n",
        "  balanced_acc = metrics.balanced_accuracy(network_standard, test_dl, device)\n",
        "  print(f'Accuracy: {accuracy}')\n",
        "  print(f'Balanced accuracy: {balanced_acc}')"
      ],
      "metadata": {
        "id": "LYiSAHYlljg6"
      },
      "execution_count": 182,
      "outputs": []
    },
    {
      "cell_type": "code",
      "source": [],
      "metadata": {
        "id": "_BTtoLWTC0HI"
      },
      "execution_count": null,
      "outputs": []
    },
    {
      "cell_type": "code",
      "source": [
        "\n",
        "\n",
        "### Individually fair training\n",
        "\n",
        "network_fair = Model(input_size, output_size).to(device)\n",
        "optimizer = torch.optim.Adam(network_fair.parameters(), lr=1e-3)\n",
        "lossfn = F.cross_entropy\n",
        "\n",
        "distance_x = distances.SVDSensitiveSubspaceDistance()\n",
        "distance_y = distances.SquaredEuclideanDistance()\n",
        "\n",
        "distance_x.fit(X_train, n_components=10)\n",
        "distance_y.fit(num_dims=output_size)\n",
        "\n",
        "distance_x.to(device)\n",
        "distance_y.to(device)\n",
        "\n",
        "rho = 5.0\n",
        "eps = 0.1\n",
        "auditor_nsteps = 100\n",
        "auditor_lr = 1e-3\n",
        "\n",
        "fairalgo = SenSeI(network_fair, distance_x, distance_y, lossfn, rho, eps, auditor_nsteps, auditor_lr)\n",
        "\n",
        "fairalgo.train()\n",
        "\n",
        "for epoch in range(EPOCHS):\n",
        "    for x, y in train_dl:\n",
        "        x, y = x.to(device), y.to(device)\n",
        "        optimizer.zero_grad()\n",
        "        result = fairalgo(x, y)\n",
        "        result.loss.backward()\n",
        "        optimizer.step()\n",
        "    \n",
        "    if epoch % 10 == 0:\n",
        "        print(f'{epoch} completed')\n",
        "\n",
        "accuracy = metrics.accuracy(network_fair, test_dl, device)\n",
        "balanced_acc = metrics.balanced_accuracy(network_fair, test_dl, device)\n",
        "spouse_consistency = metrics.spouse_consistency(network_fair, test_dl, test_dl_flip, device)\n",
        "\n",
        "print(f'Accuracy: {accuracy}')\n",
        "print(f'Balanced accuracy: {balanced_acc}')"
      ],
      "metadata": {
        "id": "sagTo49anAUs"
      },
      "execution_count": 187,
      "outputs": []
    },
    {
      "cell_type": "code",
      "source": [
        "# Auditing using the SenSR Auditor\n",
        "\n",
        "audit_nsteps = 1000\n",
        "audit_lr = 0.1\n",
        "\n",
        "auditor = SenSRAuditor(loss_fn=loss_fn, distance_x=distance_x, num_steps=audit_nsteps, lr=audit_lr, max_noise=0.5, min_noise=-0.5)\n",
        "\n",
        "audit_result_stdmodel = auditor.audit(network_standard, X_test, y_test, lambda_param=10.0, audit_threshold=1.15)\n",
        "audit_result_fairmodel = auditor.audit(network_fair, X_test, y_test, lambda_param=10.0, audit_threshold=1.15)\n",
        "\n",
        "print(\"=\"*100)\n",
        "print(f\"Loss ratio (Standard model) : {audit_result_stdmodel.lower_bound}. Is model fair: {audit_result_stdmodel.is_model_fair}\")\n",
        "print(f\"Loss ratio (fair model) : {audit_result_fairmodel.lower_bound}. Is model fair: {audit_result_fairmodel.is_model_fair}\")\n",
        "print(\"-\"*100)\n",
        "print(\"\\t As signified by these numbers, the fair model is fairer than the standard model\")\n",
        "print(\"=\"*100)\n",
        "\n",
        "\n",
        "\n"
      ],
      "metadata": {
        "colab": {
          "base_uri": "https://localhost:8080/"
        },
        "id": "YAlZHw4YncKd",
        "outputId": "58105807-3192-410a-ded6-314605e0c255"
      },
      "execution_count": 137,
      "outputs": [
        {
          "output_type": "stream",
          "name": "stderr",
          "text": [
            "/usr/local/lib/python3.7/dist-packages/inFairness/auditor/auditor.py:54: RuntimeWarning: invalid value encountered in true_divide\n"
          ]
        },
        {
          "output_type": "stream",
          "name": "stdout",
          "text": [
            "====================================================================================================\n",
            "Loss ratio (Standard model) : 3.0158437912788316. Is model fair: False\n",
            "Loss ratio (fair model) : 1.09732222633876. Is model fair: True\n",
            "----------------------------------------------------------------------------------------------------\n",
            "\t As signified by these numbers, the fair model is fairer than the standard model\n",
            "====================================================================================================\n"
          ]
        }
      ]
    },
    {
      "cell_type": "code",
      "source": [],
      "metadata": {
        "id": "oIWhYeB9D0EJ"
      },
      "execution_count": null,
      "outputs": []
    },
    {
      "cell_type": "code",
      "source": [
        "# Auditing using the SenSeI Auditor\n",
        "\n",
        "audit_nsteps = 500\n",
        "audit_lr = 0.001\n",
        "\n",
        "auditor = SenSeIAuditor(distance_x=distance_x, distance_y=distance_y, num_steps=audit_nsteps, lr=audit_lr, max_noise=0.5, min_noise=-0.5)\n",
        "\n",
        "audit_result_stdmodel = auditor.audit(network_standard, X_test, y_test, loss_fn, audit_threshold=1.15, lambda_param=50.0)\n",
        "audit_result_fairmodel = auditor.audit(network_fair, X_test, y_test, loss_fn, audit_threshold=1.15, lambda_param=50.0)\n",
        "\n",
        "print(\"=\"*100)\n",
        "print(f\"Loss ratio (Standard model) : {audit_result_stdmodel.lower_bound}. Is model fair: {audit_result_stdmodel.is_model_fair}\")\n",
        "print(f\"Loss ratio (fair model) : {audit_result_fairmodel.lower_bound}. Is model fair: {audit_result_fairmodel.is_model_fair}\")\n",
        "print(\"-\"*100)\n",
        "print(\"\\t As signified by these numbers, the fair model is fairer than the standard model\")\n",
        "print(\"=\"*100)"
      ],
      "metadata": {
        "colab": {
          "base_uri": "https://localhost:8080/"
        },
        "id": "A-vZbLz7nnWr",
        "outputId": "91c36a56-0de6-48bb-9910-4567be653314"
      },
      "execution_count": 138,
      "outputs": [
        {
          "output_type": "stream",
          "name": "stderr",
          "text": [
            "/usr/local/lib/python3.7/dist-packages/inFairness/auditor/auditor.py:54: RuntimeWarning: divide by zero encountered in true_divide\n"
          ]
        },
        {
          "output_type": "stream",
          "name": "stdout",
          "text": [
            "====================================================================================================\n",
            "Loss ratio (Standard model) : 7323198008023.832. Is model fair: False\n",
            "Loss ratio (fair model) : 1.3744366240955816. Is model fair: False\n",
            "----------------------------------------------------------------------------------------------------\n",
            "\t As signified by these numbers, the fair model is fairer than the standard model\n",
            "====================================================================================================\n"
          ]
        }
      ]
    },
    {
      "cell_type": "code",
      "source": [],
      "metadata": {
        "id": "LzkTxMedEwHc"
      },
      "execution_count": null,
      "outputs": []
    },
    {
      "cell_type": "code",
      "source": [
        "import os\n",
        "import requests\n",
        "import zipfile\n",
        "compas= 'https://github.com/propublica/compas-analysis/raw/master/compas-scores-two-years.csv'\n",
        "data_df = pd.read_csv(compas,index_col=0,parse_dates=[0])\n",
        "cols_to_drop = [\n",
        "        'name','first','last','compas_screening_date','dob','age_cat',\n",
        "        'v_screening_date','in_custody','out_custody','start','end',\n",
        "        'c_jail_in', 'c_jail_out', 'c_case_number', 'c_offense_date',\n",
        "       'c_arrest_date', 'c_days_from_compas',\n",
        "       'c_charge_desc', 'is_recid', 'r_case_number', \n",
        "       'r_days_from_arrest', 'r_offense_date', 'r_charge_desc', 'r_jail_in',\n",
        "       'r_jail_out', 'violent_recid', 'is_violent_recid', 'vr_case_number',\n",
        "       'vr_charge_degree', 'vr_offense_date', 'vr_charge_desc',\n",
        "       'screening_date','days_b_screening_arrest',\n",
        "       'v_type_of_assessment', 'v_decile_score', 'v_score_text','event'\n",
        "    ]\n",
        "\n",
        "data_df.drop(cols_to_drop, axis=1, inplace=True)\n",
        "\n",
        "\n",
        "categorical_vars = [\n",
        "        'sex', 'race', 'c_charge_degree','r_charge_degree', \n",
        "        'type_of_assessment', 'score_text'\n",
        "    ]\n",
        "data_df = pd.get_dummies(data_df, columns=categorical_vars)\n",
        "print(data_df.columns)\n",
        "cols_to_drop=['race_Asian', 'race_Caucasian', 'race_Hispanic', 'race_Native American',\n",
        "       'race_Other','sex_Female']\n",
        "\n",
        "data_df.drop(cols_to_drop, axis=1, inplace=True)\n",
        "train_data = data_df.sample(frac=0.8, random_state=123)\n",
        "test_data = data_df.drop(train_data.index).reset_index(drop=True)\n",
        "train_data = train_data.reset_index(drop=True)\n",
        "continuous_vars = [\n",
        "    'juv_fel_count', 'decile_score', 'juv_misd_count',\n",
        "    'juv_other_count', 'priors_count','decile_score.1', \n",
        "    'priors_count.1'\n",
        "    ]\n",
        "scaler = StandardScaler().fit(train_data[continuous_vars])\n",
        "train_data[continuous_vars] = scaler.transform(train_data[continuous_vars])\n",
        "test_data[continuous_vars] = scaler.transform(test_data[continuous_vars])\n",
        "\n",
        "train_data = get_input_output_df(train_data,'two_year_recid')\n",
        "test_data = get_input_output_df(test_data,'two_year_recid')\n",
        "\n",
        "X_train_df, Y_train_df = train_data\n",
        "X_test_df, Y_test_df = test_data\n",
        "\n",
        "X_train_df.head\n",
        "\n"
      ],
      "metadata": {
        "colab": {
          "base_uri": "https://localhost:8080/"
        },
        "id": "0FOtdIZRvtTE",
        "outputId": "6a3c8c0d-669a-42af-efeb-b43fe46f62d4"
      },
      "execution_count": 179,
      "outputs": [
        {
          "output_type": "stream",
          "name": "stdout",
          "text": [
            "Index(['age', 'juv_fel_count', 'decile_score', 'juv_misd_count',\n",
            "       'juv_other_count', 'priors_count', 'decile_score.1', 'priors_count.1',\n",
            "       'two_year_recid', 'sex_Female', 'sex_Male', 'race_African-American',\n",
            "       'race_Asian', 'race_Caucasian', 'race_Hispanic', 'race_Native American',\n",
            "       'race_Other', 'c_charge_degree_F', 'c_charge_degree_M',\n",
            "       'r_charge_degree_(CO3)', 'r_charge_degree_(F1)', 'r_charge_degree_(F2)',\n",
            "       'r_charge_degree_(F3)', 'r_charge_degree_(F5)', 'r_charge_degree_(F6)',\n",
            "       'r_charge_degree_(F7)', 'r_charge_degree_(M1)', 'r_charge_degree_(M2)',\n",
            "       'r_charge_degree_(MO3)', 'type_of_assessment_Risk of Recidivism',\n",
            "       'score_text_High', 'score_text_Low', 'score_text_Medium'],\n",
            "      dtype='object')\n"
          ]
        },
        {
          "output_type": "execute_result",
          "data": {
            "text/plain": [
              "<bound method NDFrame.head of       age  c_charge_degree_F  c_charge_degree_M  decile_score  decile_score.1  \\\n",
              "0      28                  1                  0     -0.873321       -0.873321   \n",
              "1      22                  1                  0      1.925477        1.925477   \n",
              "2      44                  0                  1     -1.223171       -1.223171   \n",
              "3      29                  0                  1     -0.873321       -0.873321   \n",
              "4      29                  1                  0     -0.173622       -0.173622   \n",
              "...   ...                ...                ...           ...             ...   \n",
              "5766   48                  1                  0      0.875928        0.875928   \n",
              "5767   26                  0                  1      0.875928        0.875928   \n",
              "5768   51                  1                  0     -1.223171       -1.223171   \n",
              "5769   27                  1                  0     -0.523471       -0.523471   \n",
              "5770   32                  1                  0      0.875928        0.875928   \n",
              "\n",
              "      juv_fel_count  juv_misd_count  juv_other_count  priors_count  \\\n",
              "0         -0.153867       -0.187170         1.791748     -0.501508   \n",
              "1          2.220380       -0.187170         7.826869      0.503493   \n",
              "2         -0.153867       -0.187170        -0.219960     -0.702508   \n",
              "3         -0.153867       -0.187170        -0.219960     -0.702508   \n",
              "4         -0.153867       -0.187170        -0.219960     -0.702508   \n",
              "...             ...             ...              ...           ...   \n",
              "5766      -0.153867       -0.187170        -0.219960     -0.501508   \n",
              "5767      -0.153867       -0.187170        -0.219960      1.106494   \n",
              "5768      -0.153867       -0.187170        -0.219960     -0.300508   \n",
              "5769      -0.153867       -0.187170        -0.219960     -0.099508   \n",
              "5770      -0.153867        1.894062        -0.219960      0.302493   \n",
              "\n",
              "      priors_count.1  ...  r_charge_degree_(F7)  r_charge_degree_(M1)  \\\n",
              "0          -0.501508  ...                     0                     0   \n",
              "1           0.503493  ...                     0                     0   \n",
              "2          -0.702508  ...                     0                     0   \n",
              "3          -0.702508  ...                     0                     0   \n",
              "4          -0.702508  ...                     0                     0   \n",
              "...              ...  ...                   ...                   ...   \n",
              "5766       -0.501508  ...                     0                     0   \n",
              "5767        1.106494  ...                     0                     1   \n",
              "5768       -0.300508  ...                     0                     1   \n",
              "5769       -0.099508  ...                     0                     0   \n",
              "5770        0.302493  ...                     0                     1   \n",
              "\n",
              "      r_charge_degree_(M2)  r_charge_degree_(MO3)  race_African-American  \\\n",
              "0                        0                      0                      0   \n",
              "1                        1                      0                      0   \n",
              "2                        0                      0                      1   \n",
              "3                        0                      0                      1   \n",
              "4                        0                      0                      1   \n",
              "...                    ...                    ...                    ...   \n",
              "5766                     1                      0                      0   \n",
              "5767                     0                      0                      0   \n",
              "5768                     0                      0                      0   \n",
              "5769                     0                      0                      0   \n",
              "5770                     0                      0                      0   \n",
              "\n",
              "      score_text_High  score_text_Low  score_text_Medium  sex_Male  \\\n",
              "0                   0               1                  0         0   \n",
              "1                   1               0                  0         1   \n",
              "2                   0               1                  0         1   \n",
              "3                   0               1                  0         1   \n",
              "4                   0               1                  0         1   \n",
              "...               ...             ...                ...       ...   \n",
              "5766                0               0                  1         1   \n",
              "5767                0               0                  1         1   \n",
              "5768                0               1                  0         1   \n",
              "5769                0               1                  0         0   \n",
              "5770                0               0                  1         1   \n",
              "\n",
              "      type_of_assessment_Risk of Recidivism  \n",
              "0                                         1  \n",
              "1                                         1  \n",
              "2                                         1  \n",
              "3                                         1  \n",
              "4                                         1  \n",
              "...                                     ...  \n",
              "5766                                      1  \n",
              "5767                                      1  \n",
              "5768                                      1  \n",
              "5769                                      1  \n",
              "5770                                      1  \n",
              "\n",
              "[5771 rows x 26 columns]>"
            ]
          },
          "metadata": {},
          "execution_count": 179
        }
      ]
    },
    {
      "cell_type": "code",
      "source": [
        "import data\n",
        "protected_vars = ['sex_Male', 'race_African-American']\n",
        "protected_idxs = [X_train_df.columns.get_loc(var) for var in protected_vars]\n",
        "\n",
        "X_train, y_train = data.convert_df_to_tensor(X_train_df, Y_train_df)\n",
        "X_test, y_test = data.convert_df_to_tensor(X_test_df, Y_test_df)\n",
        "X_train_df, Y_train_df = train_data\n",
        "X_test_df, Y_test_df = test_data\n",
        "train_ds = AdultDataset(X_train, y_train)\n",
        "test_ds = AdultDataset(X_test, y_test)\n",
        "# Create train and test dataloaders\n",
        "train_dl = DataLoader(train_ds, batch_size=64, shuffle=True)\n",
        "test_dl = DataLoader(test_ds, batch_size=1000, shuffle=False)\n"
      ],
      "metadata": {
        "colab": {
          "base_uri": "https://localhost:8080/"
        },
        "id": "_QrdlH7hAUUM",
        "outputId": "fed43711-b793-4ec2-9256-ec884ec67367"
      },
      "execution_count": 184,
      "outputs": [
        {
          "output_type": "stream",
          "name": "stdout",
          "text": [
            "0 completed\n",
            "Accuracy: 0.9708939790725708\n",
            "Balanced accuracy: 0.972931198478123\n"
          ]
        }
      ]
    },
    {
      "cell_type": "code",
      "source": [
        "input_size = X_train.shape[1]\n",
        "output_size = 2\n",
        "network_standard = Model(input_size, output_size).to(device)\n",
        "optimizer = torch.optim.Adam(network_standard.parameters(), lr=1e-3)\n",
        "loss_fn = F.cross_entropy\n",
        "\n",
        "EPOCHS = 10\n",
        "network_standard.train()\n",
        "for epoch in range(EPOCHS):\n",
        "\n",
        "      for x, y in train_dl:\n",
        "\n",
        "          x, y = x.to(device), y.to(device)\n",
        "          optimizer.zero_grad()\n",
        "          y_pred = network_standard(x).squeeze()\n",
        "          loss = loss_fn(y_pred, y)\n",
        "          loss.backward()\n",
        "          optimizer.step()\n",
        "\n",
        "      if epoch % 10 == 0:\n",
        "          print(f'{epoch} completed')\n",
        "accuracy = metrics.accuracy(network_standard, test_dl, device)\n",
        "print(f'Accuracy: {accuracy}')"
      ],
      "metadata": {
        "colab": {
          "base_uri": "https://localhost:8080/"
        },
        "id": "aO-xzaa4ER5z",
        "outputId": "c6c8dcee-e700-416d-d33a-7c5627f173c4"
      },
      "execution_count": 191,
      "outputs": [
        {
          "output_type": "stream",
          "name": "stdout",
          "text": [
            "0 completed\n",
            "Accuracy: 0.9708939790725708\n"
          ]
        }
      ]
    },
    {
      "cell_type": "code",
      "source": [
        "\n",
        "### Individually fair training\n",
        "\n",
        "network_fair = Model(input_size, output_size).to(device)\n",
        "optimizer = torch.optim.Adam(network_fair.parameters(), lr=1e-3)\n",
        "lossfn = F.cross_entropy\n",
        "\n",
        "distance_x = distances.SVDSensitiveSubspaceDistance()\n",
        "distance_y = distances.SquaredEuclideanDistance()\n",
        "\n",
        "distance_x.fit(X_train, n_components=10)\n",
        "distance_y.fit(num_dims=output_size)\n",
        "\n",
        "distance_x.to(device)\n",
        "distance_y.to(device)\n",
        "\n",
        "rho = 5.0\n",
        "eps = 0.1\n",
        "auditor_nsteps = 100\n",
        "auditor_lr = 1e-3\n",
        "\n",
        "fairalgo = SenSeI(network_fair, distance_x, distance_y, lossfn, rho, eps, auditor_nsteps, auditor_lr)\n",
        "\n",
        "fairalgo.train()\n",
        "\n",
        "for epoch in range(EPOCHS):\n",
        "    for x, y in train_dl:\n",
        "        x, y = x.to(device), y.to(device)\n",
        "        optimizer.zero_grad()\n",
        "        result = fairalgo(x, y)\n",
        "        result.loss.backward()\n",
        "        optimizer.step()\n",
        "    \n",
        "    if epoch % 10 == 0:\n",
        "        print(f'{epoch} completed')\n",
        "\n",
        "accuracy = metrics.accuracy(network_fair, test_dl, device)\n",
        "\n",
        "print(f'Accuracy: {accuracy}')"
      ],
      "metadata": {
        "colab": {
          "base_uri": "https://localhost:8080/"
        },
        "id": "j3JzKyEFDCC-",
        "outputId": "941c7ef0-649b-4425-bc5c-8e78f756ca9d"
      },
      "execution_count": 192,
      "outputs": [
        {
          "output_type": "stream",
          "name": "stdout",
          "text": [
            "0 completed\n",
            "Accuracy: 0.9085239171981812\n"
          ]
        }
      ]
    },
    {
      "cell_type": "code",
      "source": [
        "# Auditing using the SenSR Auditor\n",
        "\n",
        "audit_nsteps = 1000\n",
        "audit_lr = 0.1\n",
        "\n",
        "auditor = SenSRAuditor(loss_fn=loss_fn, distance_x=distance_x, num_steps=audit_nsteps, lr=audit_lr, max_noise=0.5, min_noise=-0.5)\n",
        "\n",
        "audit_result_stdmodel = auditor.audit(network_standard, X_test, y_test, lambda_param=10.0, audit_threshold=1.15)\n",
        "audit_result_fairmodel = auditor.audit(network_fair, X_test, y_test, lambda_param=10.0, audit_threshold=1.15)\n",
        "\n",
        "print(\"=\"*100)\n",
        "print(f\"Loss ratio (Standard model) : {audit_result_stdmodel.lower_bound}. Is model fair: {audit_result_stdmodel.is_model_fair}\")\n",
        "print(f\"Loss ratio (fair model) : {audit_result_fairmodel.lower_bound}. Is model fair: {audit_result_fairmodel.is_model_fair}\")\n",
        "print(\"-\"*100)\n",
        "print(\"\\t As signified by these numbers, the fair model is fairer than the standard model\")\n",
        "print(\"=\"*100)"
      ],
      "metadata": {
        "colab": {
          "base_uri": "https://localhost:8080/"
        },
        "id": "lVrCn1veD1zm",
        "outputId": "971e6de6-3840-4896-fd8b-eaf89ba290c6"
      },
      "execution_count": 193,
      "outputs": [
        {
          "output_type": "stream",
          "name": "stderr",
          "text": [
            "/usr/local/lib/python3.7/dist-packages/inFairness/auditor/auditor.py:54: RuntimeWarning: invalid value encountered in true_divide\n"
          ]
        },
        {
          "output_type": "stream",
          "name": "stdout",
          "text": [
            "====================================================================================================\n",
            "Loss ratio (Standard model) : 542.5004962436053. Is model fair: False\n",
            "Loss ratio (fair model) : 1.0210911146684414. Is model fair: True\n",
            "----------------------------------------------------------------------------------------------------\n",
            "\t As signified by these numbers, the fair model is fairer than the standard model\n",
            "====================================================================================================\n"
          ]
        }
      ]
    },
    {
      "cell_type": "code",
      "source": [
        "# Auditing using the SenSeI Auditor\n",
        "\n",
        "audit_nsteps = 500\n",
        "audit_lr = 0.001\n",
        "\n",
        "auditor = SenSeIAuditor(distance_x=distance_x, distance_y=distance_y, num_steps=audit_nsteps, lr=audit_lr, max_noise=0.5, min_noise=-0.5)\n",
        "\n",
        "audit_result_stdmodel = auditor.audit(network_standard, X_test, y_test, loss_fn, audit_threshold=1.15, lambda_param=50.0)\n",
        "audit_result_fairmodel = auditor.audit(network_fair, X_test, y_test, loss_fn, audit_threshold=1.15, lambda_param=50.0)\n",
        "\n",
        "print(\"=\"*100)\n",
        "print(f\"Loss ratio (Standard model) : {audit_result_stdmodel.lower_bound}. Is model fair: {audit_result_stdmodel.is_model_fair}\")\n",
        "print(f\"Loss ratio (fair model) : {audit_result_fairmodel.lower_bound}. Is model fair: {audit_result_fairmodel.is_model_fair}\")\n",
        "print(\"-\"*100)\n",
        "print(\"\\t As signified by these numbers, the fair model is fairer than the standard model\")\n",
        "print(\"=\"*100)"
      ],
      "metadata": {
        "colab": {
          "base_uri": "https://localhost:8080/"
        },
        "id": "o8K4kTeEEyLu",
        "outputId": "f35c87e0-c602-42f8-a98d-d6df8663fb5d"
      },
      "execution_count": 194,
      "outputs": [
        {
          "output_type": "stream",
          "name": "stderr",
          "text": [
            "/usr/local/lib/python3.7/dist-packages/inFairness/auditor/auditor.py:54: RuntimeWarning: divide by zero encountered in true_divide\n"
          ]
        },
        {
          "output_type": "stream",
          "name": "stdout",
          "text": [
            "====================================================================================================\n",
            "Loss ratio (Standard model) : 135575.64954199982. Is model fair: False\n",
            "Loss ratio (fair model) : 1.0012931291001776. Is model fair: True\n",
            "----------------------------------------------------------------------------------------------------\n",
            "\t As signified by these numbers, the fair model is fairer than the standard model\n",
            "====================================================================================================\n"
          ]
        }
      ]
    }
  ]
}